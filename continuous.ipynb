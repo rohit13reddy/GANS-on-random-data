{
 "cells": [
  {
   "cell_type": "markdown",
   "metadata": {},
   "source": [
    "This code is for generating continuous distributions"
   ]
  },
  {
   "cell_type": "markdown",
   "metadata": {},
   "source": [
    "IMPORTING THE REQUIRED LIBRARIES"
   ]
  },
  {
   "cell_type": "code",
   "execution_count": 18,
   "metadata": {},
   "outputs": [],
   "source": [
    "import numpy as np\n",
    "import tensorflow as tf\n",
    "from tensorflow.keras import layers"
   ]
  },
  {
   "cell_type": "code",
   "execution_count": 19,
   "metadata": {},
   "outputs": [],
   "source": [
    "import matplotlib.pyplot as plt"
   ]
  },
  {
   "cell_type": "markdown",
   "metadata": {},
   "source": [
    "DEFINING THE GENERATOR AND DISCRIMINATOR MODEL ARCHITECTURE"
   ]
  },
  {
   "cell_type": "code",
   "execution_count": 20,
   "metadata": {},
   "outputs": [],
   "source": [
    "# Define the Generator network\n",
    "def make_generator_model():\n",
    "    model = tf.keras.Sequential()\n",
    "    model.add(layers.Dense(256, input_shape=(10,), activation='relu'))\n",
    "    model.add(layers.Dense(512, activation='relu'))\n",
    "    # model.add(layers.Dense(1024, activation='relu'))\n",
    "    # model.add(layers.Dense(1024, activation='relu'))\n",
    "    model.add(layers.Dense(512, activation='relu'))\n",
    "    model.add(layers.Dense(256, activation='relu'))\n",
    "    model.add(layers.Dense(400, activation='exponential'))\n",
    "    return model"
   ]
  },
  {
   "cell_type": "code",
   "execution_count": 21,
   "metadata": {},
   "outputs": [],
   "source": [
    "# Define the Discriminator network\n",
    "def make_discriminator_model():\n",
    "    model = tf.keras.Sequential()\n",
    "    model.add(layers.Dense(256, input_shape=(400,), activation='relu'))\n",
    "    model.add(layers.Dense(128, activation='relu'))\n",
    "    model.add(layers.Dense(1, activation='sigmoid'))\n",
    "    return model"
   ]
  },
  {
   "cell_type": "markdown",
   "metadata": {},
   "source": [
    "DEFINING THE GENERATOR AND DISCRIMINATOR LOSS"
   ]
  },
  {
   "cell_type": "code",
   "execution_count": 23,
   "metadata": {},
   "outputs": [],
   "source": [
    "cross_entropy = tf.keras.losses.BinaryCrossentropy(from_logits=True)\n",
    "\n",
    "def discriminator_loss(real_output, fake_output):\n",
    "    real_loss = cross_entropy(tf.ones_like(real_output), real_output)\n",
    "    fake_loss = cross_entropy(tf.zeros_like(fake_output), fake_output)\n",
    "    total_loss = real_loss + fake_loss\n",
    "    return total_loss\n",
    "\n",
    "\n",
    "def generator_loss(fake_output, generated_sequences):\n",
    "    standard_gan_loss = cross_entropy(tf.ones_like(fake_output), fake_output)\n",
    "    return standard_gan_loss\n"
   ]
  },
  {
   "cell_type": "markdown",
   "metadata": {},
   "source": [
    "OPTIMIZERS FOR GENERATOR AND DISCRIMINATOR"
   ]
  },
  {
   "cell_type": "code",
   "execution_count": 24,
   "metadata": {},
   "outputs": [],
   "source": [
    "generator_optimizer = tf.keras.optimizers.legacy.Adam(1e-4)\n",
    "discriminator_optimizer = tf.keras.optimizers.legacy.Adam(1e-4)"
   ]
  },
  {
   "cell_type": "markdown",
   "metadata": {},
   "source": [
    "TRAINING STEP"
   ]
  },
  {
   "cell_type": "code",
   "execution_count": 25,
   "metadata": {},
   "outputs": [],
   "source": [
    "# Define the training function\n",
    "@tf.function\n",
    "def train_step(real_sequences):\n",
    "\n",
    "    # Generating the latent noise\n",
    "    noise = tf.random.normal([real_sequences.shape[0], 10])\n",
    "\n",
    "    # Generating sequences and calculating loss\n",
    "    with tf.GradientTape() as gen_tape, tf.GradientTape() as disc_tape:\n",
    "        generated_sequences = generator(noise, training=True)\n",
    "\n",
    "        real_output = discriminator(real_sequences, training=True)\n",
    "        fake_output = discriminator(generated_sequences, training=True)\n",
    "\n",
    "        gen_loss = generator_loss(fake_output, generated_sequences)\n",
    "        disc_loss = discriminator_loss(real_output, fake_output)\n",
    "\n",
    "    # Calculating the gradients for generator and discriminator\n",
    "    gradients_of_generator = gen_tape.gradient(gen_loss, generator.trainable_variables)\n",
    "    gradients_of_discriminator = disc_tape.gradient(disc_loss, discriminator.trainable_variables)\n",
    "\n",
    "    # Updating the generator and discriminator\n",
    "    generator_optimizer.apply_gradients(zip(gradients_of_generator, generator.trainable_variables))\n",
    "    discriminator_optimizer.apply_gradients(zip(gradients_of_discriminator, discriminator.trainable_variables))\n"
   ]
  },
  {
   "cell_type": "code",
   "execution_count": 26,
   "metadata": {},
   "outputs": [],
   "source": [
    "# Define the number of training epochs and batch size\n",
    "num_epochs = 1000\n",
    "batch_size = 100"
   ]
  },
  {
   "cell_type": "code",
   "execution_count": 28,
   "metadata": {},
   "outputs": [],
   "source": [
    "scale = 1\n",
    "array = np.random.exponential(scale, 2000000)\n",
    "# Input Data"
   ]
  },
  {
   "cell_type": "markdown",
   "metadata": {},
   "source": [
    "PLOTTING THE INPUT DATA"
   ]
  },
  {
   "cell_type": "code",
   "execution_count": 29,
   "metadata": {},
   "outputs": [
    {
     "data": {
      "text/plain": [
       "(array([     0.,      0.,      0.,      0.,      0.,      0.,      0.,\n",
       "             0.,      0.,      0.,      0.,      0.,      0.,      0.,\n",
       "             0.,      0.,      0.,      0.,      0.,      0.,      0.,\n",
       "             0.,      0.,      0.,      0.,      0.,      0.,      0.,\n",
       "             0.,      0.,      0.,      0.,      0.,      0.,      0.,\n",
       "             0.,      0.,      0.,      0.,      0.,      0.,      0.,\n",
       "             0.,      0.,      0.,      0.,      0.,      0.,      0.,\n",
       "             0.,      0.,      0.,      0.,      0.,      0.,      0.,\n",
       "             0.,      0.,      0.,      0., 190233., 171480., 156674.,\n",
       "        140528., 127371., 115330., 104418.,  94692.,  85801.,  77532.,\n",
       "         69869.,  62878.,  57375.,  51838.,  47457.,  42286.,  38845.,\n",
       "         34982.,  31692.,  28276.,  25655.,  23242.,  20805.,  19211.,\n",
       "         17397.,  15672.,  14126.,  12751.,  11553.,  10535.,   9530.,\n",
       "          8626.,   7657.,   7068.,   6321.,   5723.,   5278.,   4620.,\n",
       "          4225.,   3756.,   3428.,   3169.,   2808.,   2607.,   2301.,\n",
       "          2050.,   1923.,   1772.,   1636.,   1453.,   1249.,   1144.,\n",
       "          1103.,    952.,    897.,    779.,    644.,    663.,    574.,\n",
       "           504.]),\n",
       " array([-6.00000000e+00, -5.90000000e+00, -5.80000000e+00, -5.70000000e+00,\n",
       "        -5.60000000e+00, -5.50000000e+00, -5.40000000e+00, -5.30000000e+00,\n",
       "        -5.20000000e+00, -5.10000000e+00, -5.00000000e+00, -4.90000000e+00,\n",
       "        -4.80000000e+00, -4.70000000e+00, -4.60000000e+00, -4.50000000e+00,\n",
       "        -4.40000000e+00, -4.30000000e+00, -4.20000000e+00, -4.10000000e+00,\n",
       "        -4.00000000e+00, -3.90000000e+00, -3.80000000e+00, -3.70000000e+00,\n",
       "        -3.60000000e+00, -3.50000000e+00, -3.40000000e+00, -3.30000000e+00,\n",
       "        -3.20000000e+00, -3.10000000e+00, -3.00000000e+00, -2.90000000e+00,\n",
       "        -2.80000000e+00, -2.70000000e+00, -2.60000000e+00, -2.50000000e+00,\n",
       "        -2.40000000e+00, -2.30000000e+00, -2.20000000e+00, -2.10000000e+00,\n",
       "        -2.00000000e+00, -1.90000000e+00, -1.80000000e+00, -1.70000000e+00,\n",
       "        -1.60000000e+00, -1.50000000e+00, -1.40000000e+00, -1.30000000e+00,\n",
       "        -1.20000000e+00, -1.10000000e+00, -1.00000000e+00, -9.00000000e-01,\n",
       "        -8.00000000e-01, -7.00000000e-01, -6.00000000e-01, -5.00000000e-01,\n",
       "        -4.00000000e-01, -3.00000000e-01, -2.00000000e-01, -1.00000000e-01,\n",
       "        -2.13162821e-14,  1.00000000e-01,  2.00000000e-01,  3.00000000e-01,\n",
       "         4.00000000e-01,  5.00000000e-01,  6.00000000e-01,  7.00000000e-01,\n",
       "         8.00000000e-01,  9.00000000e-01,  1.00000000e+00,  1.10000000e+00,\n",
       "         1.20000000e+00,  1.30000000e+00,  1.40000000e+00,  1.50000000e+00,\n",
       "         1.60000000e+00,  1.70000000e+00,  1.80000000e+00,  1.90000000e+00,\n",
       "         2.00000000e+00,  2.10000000e+00,  2.20000000e+00,  2.30000000e+00,\n",
       "         2.40000000e+00,  2.50000000e+00,  2.60000000e+00,  2.70000000e+00,\n",
       "         2.80000000e+00,  2.90000000e+00,  3.00000000e+00,  3.10000000e+00,\n",
       "         3.20000000e+00,  3.30000000e+00,  3.40000000e+00,  3.50000000e+00,\n",
       "         3.60000000e+00,  3.70000000e+00,  3.80000000e+00,  3.90000000e+00,\n",
       "         4.00000000e+00,  4.10000000e+00,  4.20000000e+00,  4.30000000e+00,\n",
       "         4.40000000e+00,  4.50000000e+00,  4.60000000e+00,  4.70000000e+00,\n",
       "         4.80000000e+00,  4.90000000e+00,  5.00000000e+00,  5.10000000e+00,\n",
       "         5.20000000e+00,  5.30000000e+00,  5.40000000e+00,  5.50000000e+00,\n",
       "         5.60000000e+00,  5.70000000e+00,  5.80000000e+00,  5.90000000e+00,\n",
       "         6.00000000e+00]),\n",
       " <BarContainer object of 120 artists>)"
      ]
     },
     "execution_count": 29,
     "metadata": {},
     "output_type": "execute_result"
    },
    {
     "data": {
      "image/png": "[encoded data removed]",
      "text/plain": [
       "<Figure size 640x480 with 1 Axes>"
      ]
     },
     "metadata": {},
     "output_type": "display_data"
    }
   ],
   "source": [
    "bin_size = 0.1\n",
    "bins = np.arange(-6, 6 + bin_size, bin_size)\n",
    "plt.hist(array, bins=bins)"
   ]
  },
  {
   "cell_type": "code",
   "execution_count": 30,
   "metadata": {},
   "outputs": [],
   "source": [
    "training_data = array.reshape(5000, 400)\n",
    "train_dataset = tf.data.Dataset.from_tensor_slices(training_data).shuffle(len(training_data)).batch(batch_size)\n"
   ]
  },
  {
   "cell_type": "markdown",
   "metadata": {},
   "source": [
    "MAKING (INITIALIZING) THE GENERATOR AND DISCRIMINATOR MODELS"
   ]
  },
  {
   "cell_type": "code",
   "execution_count": 31,
   "metadata": {},
   "outputs": [],
   "source": [
    "# Instantiate the Generator and Discriminator models\n",
    "generator = make_generator_model()\n",
    "discriminator = make_discriminator_model()"
   ]
  },
  {
   "cell_type": "code",
   "execution_count": 32,
   "metadata": {},
   "outputs": [],
   "source": [
    "store = np.zeros((10, 400000))"
   ]
  },
  {
   "cell_type": "markdown",
   "metadata": {},
   "source": [
    "TRAINING OCCURS HERE"
   ]
  },
  {
   "cell_type": "code",
   "execution_count": 33,
   "metadata": {},
   "outputs": [
    {
     "name": "stdout",
     "output_type": "stream",
     "text": [
      "WARNING:tensorflow:AutoGraph could not transform <function train_step at 0x0000023676B4E550> and will run it as-is.\n",
      "Please report this to the TensorFlow team. When filing the bug, set the verbosity to 10 (on Linux, `export AUTOGRAPH_VERBOSITY=10`) and attach the full output.\n",
      "Cause: module 'gast' has no attribute 'Constant'\n",
      "To silence this warning, decorate the function with @tf.autograph.experimental.do_not_convert\n",
      "WARNING: AutoGraph could not transform <function train_step at 0x0000023676B4E550> and will run it as-is.\n",
      "Please report this to the TensorFlow team. When filing the bug, set the verbosity to 10 (on Linux, `export AUTOGRAPH_VERBOSITY=10`) and attach the full output.\n",
      "Cause: module 'gast' has no attribute 'Constant'\n",
      "To silence this warning, decorate the function with @tf.autograph.experimental.do_not_convert\n",
      "Epoch 10/1000 completed.\n",
      "Epoch 20/1000 completed.\n",
      "Epoch 30/1000 completed.\n",
      "Epoch 40/1000 completed.\n",
      "Epoch 50/1000 completed.\n",
      "Epoch 60/1000 completed.\n",
      "Epoch 70/1000 completed.\n",
      "Epoch 80/1000 completed.\n",
      "Epoch 90/1000 completed.\n",
      "Epoch 100/1000 completed.\n",
      "Epoch 110/1000 completed.\n",
      "Epoch 120/1000 completed.\n",
      "Epoch 130/1000 completed.\n",
      "Epoch 140/1000 completed.\n",
      "Epoch 150/1000 completed.\n",
      "Epoch 160/1000 completed.\n",
      "Epoch 170/1000 completed.\n",
      "Epoch 180/1000 completed.\n",
      "Epoch 190/1000 completed.\n",
      "Epoch 200/1000 completed.\n",
      "Epoch 210/1000 completed.\n",
      "Epoch 220/1000 completed.\n",
      "Epoch 230/1000 completed.\n",
      "Epoch 240/1000 completed.\n",
      "Epoch 250/1000 completed.\n",
      "Epoch 260/1000 completed.\n",
      "Epoch 270/1000 completed.\n",
      "Epoch 280/1000 completed.\n",
      "Epoch 290/1000 completed.\n",
      "Epoch 300/1000 completed.\n",
      "Epoch 310/1000 completed.\n",
      "Epoch 320/1000 completed.\n",
      "Epoch 330/1000 completed.\n",
      "Epoch 340/1000 completed.\n",
      "Epoch 350/1000 completed.\n",
      "Epoch 360/1000 completed.\n",
      "Epoch 370/1000 completed.\n",
      "Epoch 380/1000 completed.\n",
      "Epoch 390/1000 completed.\n",
      "Epoch 400/1000 completed.\n",
      "Epoch 410/1000 completed.\n",
      "Epoch 420/1000 completed.\n",
      "Epoch 430/1000 completed.\n",
      "Epoch 440/1000 completed.\n",
      "Epoch 450/1000 completed.\n",
      "Epoch 460/1000 completed.\n",
      "Epoch 470/1000 completed.\n",
      "Epoch 480/1000 completed.\n",
      "Epoch 490/1000 completed.\n",
      "Epoch 500/1000 completed.\n",
      "Epoch 510/1000 completed.\n",
      "Epoch 520/1000 completed.\n",
      "Epoch 530/1000 completed.\n",
      "Epoch 540/1000 completed.\n",
      "Epoch 550/1000 completed.\n",
      "Epoch 560/1000 completed.\n",
      "Epoch 570/1000 completed.\n",
      "Epoch 580/1000 completed.\n",
      "Epoch 590/1000 completed.\n",
      "Epoch 600/1000 completed.\n",
      "Epoch 610/1000 completed.\n",
      "Epoch 620/1000 completed.\n",
      "Epoch 630/1000 completed.\n",
      "Epoch 640/1000 completed.\n",
      "Epoch 650/1000 completed.\n",
      "Epoch 660/1000 completed.\n",
      "Epoch 670/1000 completed.\n",
      "Epoch 680/1000 completed.\n",
      "Epoch 690/1000 completed.\n",
      "Epoch 700/1000 completed.\n",
      "Epoch 710/1000 completed.\n",
      "Epoch 720/1000 completed.\n",
      "Epoch 730/1000 completed.\n",
      "Epoch 740/1000 completed.\n",
      "Epoch 750/1000 completed.\n",
      "Epoch 760/1000 completed.\n",
      "Epoch 770/1000 completed.\n",
      "Epoch 780/1000 completed.\n",
      "Epoch 790/1000 completed.\n",
      "Epoch 800/1000 completed.\n",
      "Epoch 810/1000 completed.\n",
      "Epoch 820/1000 completed.\n",
      "Epoch 830/1000 completed.\n",
      "Epoch 840/1000 completed.\n",
      "Epoch 850/1000 completed.\n",
      "Epoch 860/1000 completed.\n",
      "Epoch 870/1000 completed.\n",
      "Epoch 880/1000 completed.\n",
      "Epoch 890/1000 completed.\n",
      "Epoch 900/1000 completed.\n",
      "Epoch 910/1000 completed.\n",
      "Epoch 920/1000 completed.\n",
      "Epoch 930/1000 completed.\n",
      "Epoch 940/1000 completed.\n",
      "Epoch 950/1000 completed.\n",
      "Epoch 960/1000 completed.\n",
      "Epoch 970/1000 completed.\n",
      "Epoch 980/1000 completed.\n",
      "Epoch 990/1000 completed.\n",
      "Epoch 1000/1000 completed.\n"
     ]
    }
   ],
   "source": [
    "\n",
    "# Training loop\n",
    "for epoch in range(num_epochs):\n",
    "    for sequences in train_dataset:\n",
    "        train_step(sequences)\n",
    "\n",
    "    if (epoch + 1) % 10 == 0:\n",
    "        print(f\"Epoch {epoch+1}/{num_epochs} completed.\")\n",
    "        \n",
    "    if (epoch + 1) % 100 == 0:\n",
    "        \n",
    "        val = (epoch+1)/100 - 1\n",
    "        for q in range(1000):\n",
    "            noise = tf.random.uniform([1, 10])\n",
    "            xx = generator(noise, training=False).numpy().squeeze()\n",
    "    \n",
    "            for p in range(400):\n",
    "                store[int(val)][int(q*400 + p)] = xx[p]\n",
    "\n",
    "\n"
   ]
  },
  {
   "cell_type": "markdown",
   "metadata": {},
   "source": [
    "PLOTTING THE GENERATED HISTOGRAMS AFTER 100, 200.... 1000 epochs"
   ]
  },
  {
   "cell_type": "code",
   "execution_count": 34,
   "metadata": {},
   "outputs": [
    {
     "data": {
      "image/png": "[encoded data removed]",
      "text/plain": [
       "<Figure size 1200x600 with 10 Axes>"
      ]
     },
     "metadata": {},
     "output_type": "display_data"
    }
   ],
   "source": [
    "fig, axs = plt.subplots(5, 2, figsize=(12, 6))\n",
    "fig.subplots_adjust(hspace=0.5) \n",
    "\n",
    "# Iterate through the subplots\n",
    "for i, ax in enumerate(axs.flat):\n",
    "    bin_size = 0.1\n",
    "    bins = np.arange(-6, 6 + bin_size, bin_size)\n",
    "    \n",
    "    # Plot the histogram in the current subplot\n",
    "    ax.hist(store[i], bins=bins)\n",
    "    \n",
    "    # Set titles for each subplot\n",
    "    ax.set_title(f'Histogram {i+1}')\n",
    "    \n",
    "\n",
    "\n",
    "# Show the plots\n",
    "plt.show()"
   ]
  }
 ],
 "metadata": {
  "kernelspec": {
   "display_name": "Python 3",
   "language": "python",
   "name": "python3"
  },
  "language_info": {
   "codemirror_mode": {
    "name": "ipython",
    "version": 3
   },
   "file_extension": ".py",
   "mimetype": "text/x-python",
   "name": "python",
   "nbconvert_exporter": "python",
   "pygments_lexer": "ipython3",
   "version": "3.9.7"
  }
 },
 "nbformat": 4,
 "nbformat_minor": 2
}
