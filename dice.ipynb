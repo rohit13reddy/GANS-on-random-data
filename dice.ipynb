{
 "cells": [
  {
   "cell_type": "markdown",
   "metadata": {},
   "source": [
    "This code is for discrete dice rolling experiment"
   ]
  },
  {
   "cell_type": "markdown",
   "metadata": {},
   "source": [
    "Importing the libraries"
   ]
  },
  {
   "cell_type": "code",
   "execution_count": 20,
   "metadata": {},
   "outputs": [],
   "source": [
    "import numpy as np\n",
    "import tensorflow as tf\n",
    "from tensorflow.keras import layers"
   ]
  },
  {
   "cell_type": "code",
   "execution_count": 21,
   "metadata": {},
   "outputs": [],
   "source": [
    "import matplotlib.pyplot as plt"
   ]
  },
  {
   "cell_type": "markdown",
   "metadata": {},
   "source": [
    "DEFINING THE GENERATOR AND DISCRIMINATOR ARCHITECHTURE"
   ]
  },
  {
   "cell_type": "code",
   "execution_count": 22,
   "metadata": {},
   "outputs": [],
   "source": [
    "# Define the Generator network\n",
    "def make_generator_model():\n",
    "    model = tf.keras.Sequential()\n",
    "    model.add(layers.Dense(256, input_shape=(10,), activation='tanh'))\n",
    "    model.add(layers.Dense(512, activation='tanh'))\n",
    "    # model.add(layers.Dense(1024, activation='relu'))\n",
    "    # model.add(layers.Dense(1024, activation='relu'))\n",
    "    model.add(layers.Dense(512, activation='tanh'))\n",
    "    model.add(layers.Dense(256, activation='tanh'))\n",
    "    model.add(layers.Dense(200, activation='linear'))\n",
    "    return model"
   ]
  },
  {
   "cell_type": "code",
   "execution_count": 23,
   "metadata": {},
   "outputs": [],
   "source": [
    "# Define the Discriminator network\n",
    "def make_discriminator_model():\n",
    "    model = tf.keras.Sequential()\n",
    "    model.add(layers.Dense(256, input_shape=(200,), activation='relu'))\n",
    "    model.add(layers.Dense(128, activation='relu'))\n",
    "    model.add(layers.Dense(1, activation='sigmoid'))\n",
    "    return model"
   ]
  },
  {
   "cell_type": "markdown",
   "metadata": {},
   "source": [
    "DEFINING THE GENERATOR AND DISCRIMINATOR LOSSES"
   ]
  },
  {
   "cell_type": "code",
   "execution_count": 25,
   "metadata": {},
   "outputs": [],
   "source": [
    "cross_entropy = tf.keras.losses.BinaryCrossentropy(from_logits=True)\n",
    "\n",
    "def discriminator_loss(real_output, fake_output):\n",
    "    real_loss = cross_entropy(tf.ones_like(real_output), real_output)\n",
    "    fake_loss = cross_entropy(tf.zeros_like(fake_output), fake_output)\n",
    "    total_loss = real_loss + fake_loss\n",
    "    return total_loss\n",
    "\n",
    "# For generator loss extra integer penalty has been added\n",
    "\n",
    "def generator_loss(fake_output, generated_sequences):\n",
    "    standard_gan_loss = cross_entropy(tf.ones_like(fake_output), fake_output)\n",
    "    target_values = [1, 2, 3, 4, 5, 6]  # Set of target values\n",
    "    distance_to_target = tf.reduce_min(tf.abs(tf.expand_dims(generated_sequences, -1) - target_values), axis=-1)\n",
    "    mean_distance = tf.reduce_mean(distance_to_target)\n",
    "    penalty_weight = 1\n",
    "    total_loss = standard_gan_loss + penalty_weight * mean_distance\n",
    "    return total_loss\n"
   ]
  },
  {
   "cell_type": "markdown",
   "metadata": {},
   "source": [
    "DEFINING THE OPTIMIZERS"
   ]
  },
  {
   "cell_type": "code",
   "execution_count": 26,
   "metadata": {},
   "outputs": [],
   "source": [
    "generator_optimizer = tf.keras.optimizers.legacy.Adam(1e-4)\n",
    "discriminator_optimizer = tf.keras.optimizers.legacy.Adam(1e-4)"
   ]
  },
  {
   "cell_type": "markdown",
   "metadata": {},
   "source": [
    "TRAINING STEP"
   ]
  },
  {
   "cell_type": "code",
   "execution_count": 27,
   "metadata": {},
   "outputs": [],
   "source": [
    "# Define the training function\n",
    "@tf.function\n",
    "def train_step(real_sequences):\n",
    "\n",
    "    #Generate latent noise\n",
    "    noise = tf.random.normal([real_sequences.shape[0], 10])\n",
    "\n",
    "\n",
    "    # Calculate the losses\n",
    "    with tf.GradientTape() as gen_tape, tf.GradientTape() as disc_tape:\n",
    "        generated_sequences = generator(noise, training=True)\n",
    "\n",
    "        real_output = discriminator(real_sequences, training=True)\n",
    "        fake_output = discriminator(generated_sequences, training=True)\n",
    "\n",
    "        gen_loss = generator_loss(fake_output, generated_sequences)\n",
    "        disc_loss = discriminator_loss(real_output, fake_output)\n",
    "\n",
    "    # Calculate the gradients\n",
    "    gradients_of_generator = gen_tape.gradient(gen_loss, generator.trainable_variables)\n",
    "    gradients_of_discriminator = disc_tape.gradient(disc_loss, discriminator.trainable_variables)\n",
    "\n",
    "    # Update the generator and discriminator\n",
    "    generator_optimizer.apply_gradients(zip(gradients_of_generator, generator.trainable_variables))\n",
    "    discriminator_optimizer.apply_gradients(zip(gradients_of_discriminator, discriminator.trainable_variables))\n"
   ]
  },
  {
   "cell_type": "code",
   "execution_count": 28,
   "metadata": {},
   "outputs": [],
   "source": [
    "# Define the number of training epochs and batch size\n",
    "num_epochs = 1000\n",
    "batch_size = 100"
   ]
  },
  {
   "cell_type": "markdown",
   "metadata": {},
   "source": [
    "HERE I AM GENERATING TRAINING DATA"
   ]
  },
  {
   "cell_type": "code",
   "execution_count": 29,
   "metadata": {},
   "outputs": [],
   "source": [
    "array = np.random.rand(2000000)\n",
    "array = array*6\n",
    "vals = np.zeros(6)\n",
    "\n",
    "for p in range(2000000):\n",
    "    \n",
    "    for q in range(6):\n",
    "        if(array[p] <= (q+1)):\n",
    "            array[p] = q+1\n",
    "            vals[q] = vals[q] + 1\n",
    "            break\n",
    "\n",
    "vals = vals/200000"
   ]
  },
  {
   "cell_type": "code",
   "execution_count": 30,
   "metadata": {},
   "outputs": [
    {
     "name": "stdout",
     "output_type": "stream",
     "text": [
      "[1.67064  1.66781  1.665725 1.665535 1.66355  1.66674 ]\n"
     ]
    }
   ],
   "source": [
    "print(vals)"
   ]
  },
  {
   "cell_type": "code",
   "execution_count": 31,
   "metadata": {},
   "outputs": [
    {
     "data": {
      "text/plain": [
       "(array([     0.,      0.,      0.,      0.,      0.,      0.,      0.,\n",
       "             0.,      0.,      0.,      0.,      0.,      0.,      0.,\n",
       "             0.,      0.,      0.,      0.,      0.,      0., 334128.,\n",
       "             0.,      0.,      0.,      0.,      0.,      0.,      0.,\n",
       "             0.,      0., 333562.,      0.,      0.,      0.,      0.,\n",
       "             0.,      0.,      0.,      0.,      0., 333145.,      0.,\n",
       "             0.,      0.,      0.,      0.,      0.,      0.,      0.,\n",
       "             0., 333107.,      0.,      0.,      0.,      0.,      0.,\n",
       "             0.,      0.,      0.,      0., 332710.,      0.,      0.,\n",
       "             0.,      0.,      0.,      0.,      0.,      0.,      0.,\n",
       "        333348.,      0.,      0.,      0.,      0.,      0.,      0.,\n",
       "             0.,      0.,      0.]),\n",
       " array([-1.00000000e+00, -9.00000000e-01, -8.00000000e-01, -7.00000000e-01,\n",
       "        -6.00000000e-01, -5.00000000e-01, -4.00000000e-01, -3.00000000e-01,\n",
       "        -2.00000000e-01, -1.00000000e-01, -2.22044605e-16,  1.00000000e-01,\n",
       "         2.00000000e-01,  3.00000000e-01,  4.00000000e-01,  5.00000000e-01,\n",
       "         6.00000000e-01,  7.00000000e-01,  8.00000000e-01,  9.00000000e-01,\n",
       "         1.00000000e+00,  1.10000000e+00,  1.20000000e+00,  1.30000000e+00,\n",
       "         1.40000000e+00,  1.50000000e+00,  1.60000000e+00,  1.70000000e+00,\n",
       "         1.80000000e+00,  1.90000000e+00,  2.00000000e+00,  2.10000000e+00,\n",
       "         2.20000000e+00,  2.30000000e+00,  2.40000000e+00,  2.50000000e+00,\n",
       "         2.60000000e+00,  2.70000000e+00,  2.80000000e+00,  2.90000000e+00,\n",
       "         3.00000000e+00,  3.10000000e+00,  3.20000000e+00,  3.30000000e+00,\n",
       "         3.40000000e+00,  3.50000000e+00,  3.60000000e+00,  3.70000000e+00,\n",
       "         3.80000000e+00,  3.90000000e+00,  4.00000000e+00,  4.10000000e+00,\n",
       "         4.20000000e+00,  4.30000000e+00,  4.40000000e+00,  4.50000000e+00,\n",
       "         4.60000000e+00,  4.70000000e+00,  4.80000000e+00,  4.90000000e+00,\n",
       "         5.00000000e+00,  5.10000000e+00,  5.20000000e+00,  5.30000000e+00,\n",
       "         5.40000000e+00,  5.50000000e+00,  5.60000000e+00,  5.70000000e+00,\n",
       "         5.80000000e+00,  5.90000000e+00,  6.00000000e+00,  6.10000000e+00,\n",
       "         6.20000000e+00,  6.30000000e+00,  6.40000000e+00,  6.50000000e+00,\n",
       "         6.60000000e+00,  6.70000000e+00,  6.80000000e+00,  6.90000000e+00,\n",
       "         7.00000000e+00]),\n",
       " <BarContainer object of 80 artists>)"
      ]
     },
     "execution_count": 31,
     "metadata": {},
     "output_type": "execute_result"
    },
    {
     "data": {
      "image/png": "[encoded data removed]",
      "text/plain": [
       "<Figure size 640x480 with 1 Axes>"
      ]
     },
     "metadata": {},
     "output_type": "display_data"
    }
   ],
   "source": [
    "bin_size = 0.1\n",
    "bins = np.arange(-1, 7 + bin_size, bin_size)\n",
    "plt.hist(array, bins=bins)"
   ]
  },
  {
   "cell_type": "code",
   "execution_count": 32,
   "metadata": {},
   "outputs": [],
   "source": [
    "training_data = array.reshape(10000, 200)\n",
    "train_dataset = tf.data.Dataset.from_tensor_slices(training_data).shuffle(len(training_data)).batch(batch_size)\n"
   ]
  },
  {
   "cell_type": "markdown",
   "metadata": {},
   "source": [
    "INITIALIZING THE GENERATOR AND DISCRIMINATOR MODEL"
   ]
  },
  {
   "cell_type": "code",
   "execution_count": 33,
   "metadata": {},
   "outputs": [],
   "source": [
    "# Instantiate the Generator and Discriminator models\n",
    "generator = make_generator_model()\n",
    "discriminator = make_discriminator_model()"
   ]
  },
  {
   "cell_type": "code",
   "execution_count": 34,
   "metadata": {},
   "outputs": [],
   "source": [
    "store = np.zeros((20, 200000))"
   ]
  },
  {
   "cell_type": "markdown",
   "metadata": {},
   "source": [
    "HERE THE TRAINING OCCURS"
   ]
  },
  {
   "cell_type": "code",
   "execution_count": 35,
   "metadata": {},
   "outputs": [
    {
     "name": "stdout",
     "output_type": "stream",
     "text": [
      "WARNING:tensorflow:AutoGraph could not transform <function train_step at 0x0000020A3E82C310> and will run it as-is.\n",
      "Please report this to the TensorFlow team. When filing the bug, set the verbosity to 10 (on Linux, `export AUTOGRAPH_VERBOSITY=10`) and attach the full output.\n",
      "Cause: module 'gast' has no attribute 'Constant'\n",
      "To silence this warning, decorate the function with @tf.autograph.experimental.do_not_convert\n",
      "WARNING: AutoGraph could not transform <function train_step at 0x0000020A3E82C310> and will run it as-is.\n",
      "Please report this to the TensorFlow team. When filing the bug, set the verbosity to 10 (on Linux, `export AUTOGRAPH_VERBOSITY=10`) and attach the full output.\n",
      "Cause: module 'gast' has no attribute 'Constant'\n",
      "To silence this warning, decorate the function with @tf.autograph.experimental.do_not_convert\n"
     ]
    },
    {
     "name": "stdout",
     "output_type": "stream",
     "text": [
      "Epoch 10/1000 completed.\n",
      "Epoch 20/1000 completed.\n",
      "Epoch 30/1000 completed.\n",
      "Epoch 40/1000 completed.\n",
      "Epoch 50/1000 completed.\n",
      "Epoch 60/1000 completed.\n",
      "Epoch 70/1000 completed.\n",
      "Epoch 80/1000 completed.\n",
      "Epoch 90/1000 completed.\n",
      "Epoch 100/1000 completed.\n",
      "Epoch 110/1000 completed.\n",
      "Epoch 120/1000 completed.\n",
      "Epoch 130/1000 completed.\n",
      "Epoch 140/1000 completed.\n",
      "Epoch 150/1000 completed.\n",
      "Epoch 160/1000 completed.\n",
      "Epoch 170/1000 completed.\n",
      "Epoch 180/1000 completed.\n",
      "Epoch 190/1000 completed.\n",
      "Epoch 200/1000 completed.\n",
      "Epoch 210/1000 completed.\n",
      "Epoch 220/1000 completed.\n",
      "Epoch 230/1000 completed.\n",
      "Epoch 240/1000 completed.\n",
      "Epoch 250/1000 completed.\n",
      "Epoch 260/1000 completed.\n",
      "Epoch 270/1000 completed.\n",
      "Epoch 280/1000 completed.\n",
      "Epoch 290/1000 completed.\n",
      "Epoch 300/1000 completed.\n",
      "Epoch 310/1000 completed.\n",
      "Epoch 320/1000 completed.\n",
      "Epoch 330/1000 completed.\n",
      "Epoch 340/1000 completed.\n",
      "Epoch 350/1000 completed.\n",
      "Epoch 360/1000 completed.\n",
      "Epoch 370/1000 completed.\n",
      "Epoch 380/1000 completed.\n",
      "Epoch 390/1000 completed.\n",
      "Epoch 400/1000 completed.\n",
      "Epoch 410/1000 completed.\n",
      "Epoch 420/1000 completed.\n",
      "Epoch 430/1000 completed.\n",
      "Epoch 440/1000 completed.\n",
      "Epoch 450/1000 completed.\n",
      "Epoch 460/1000 completed.\n",
      "Epoch 470/1000 completed.\n",
      "Epoch 480/1000 completed.\n",
      "Epoch 490/1000 completed.\n",
      "Epoch 500/1000 completed.\n",
      "Epoch 510/1000 completed.\n",
      "Epoch 520/1000 completed.\n",
      "Epoch 530/1000 completed.\n",
      "Epoch 540/1000 completed.\n",
      "Epoch 550/1000 completed.\n",
      "Epoch 560/1000 completed.\n",
      "Epoch 570/1000 completed.\n",
      "Epoch 580/1000 completed.\n",
      "Epoch 590/1000 completed.\n",
      "Epoch 600/1000 completed.\n",
      "Epoch 610/1000 completed.\n",
      "Epoch 620/1000 completed.\n",
      "Epoch 630/1000 completed.\n",
      "Epoch 640/1000 completed.\n",
      "Epoch 650/1000 completed.\n",
      "Epoch 660/1000 completed.\n",
      "Epoch 670/1000 completed.\n",
      "Epoch 680/1000 completed.\n",
      "Epoch 690/1000 completed.\n",
      "Epoch 700/1000 completed.\n",
      "Epoch 710/1000 completed.\n",
      "Epoch 720/1000 completed.\n",
      "Epoch 730/1000 completed.\n",
      "Epoch 740/1000 completed.\n",
      "Epoch 750/1000 completed.\n",
      "Epoch 760/1000 completed.\n",
      "Epoch 770/1000 completed.\n",
      "Epoch 780/1000 completed.\n",
      "Epoch 790/1000 completed.\n",
      "Epoch 800/1000 completed.\n",
      "Epoch 810/1000 completed.\n",
      "Epoch 820/1000 completed.\n",
      "Epoch 830/1000 completed.\n",
      "Epoch 840/1000 completed.\n",
      "Epoch 850/1000 completed.\n",
      "Epoch 860/1000 completed.\n",
      "Epoch 870/1000 completed.\n",
      "Epoch 880/1000 completed.\n",
      "Epoch 890/1000 completed.\n",
      "Epoch 900/1000 completed.\n",
      "Epoch 910/1000 completed.\n",
      "Epoch 920/1000 completed.\n",
      "Epoch 930/1000 completed.\n",
      "Epoch 940/1000 completed.\n",
      "Epoch 950/1000 completed.\n",
      "Epoch 960/1000 completed.\n",
      "Epoch 970/1000 completed.\n",
      "Epoch 980/1000 completed.\n",
      "Epoch 990/1000 completed.\n",
      "Epoch 1000/1000 completed.\n"
     ]
    }
   ],
   "source": [
    "\n",
    "# Training loop\n",
    "for epoch in range(num_epochs):\n",
    "    for sequences in train_dataset:\n",
    "        train_step(sequences)\n",
    "\n",
    "    if (epoch + 1) % 10 == 0:\n",
    "        print(f\"Epoch {epoch+1}/{num_epochs} completed.\")\n",
    "        \n",
    "    if (epoch + 1) % 100 == 0:\n",
    "        \n",
    "        val = (epoch+1)/100 - 1\n",
    "        for q in range(1000):\n",
    "            noise = tf.random.normal([1, 10])\n",
    "            xx = generator(noise, training=False).numpy().squeeze()\n",
    "    \n",
    "            for p in range(200):\n",
    "                store[int(val)][int(q*200 + p)] = xx[p]\n",
    "\n",
    "\n"
   ]
  },
  {
   "cell_type": "markdown",
   "metadata": {},
   "source": [
    "GENERATED OUTPUT AFTER 100, 200, 300, ..... 1000 EPOCHS"
   ]
  },
  {
   "cell_type": "code",
   "execution_count": 36,
   "metadata": {},
   "outputs": [
    {
     "data": {
      "image/png": "[encoded data removed]",
      "text/plain": [
       "<Figure size 1200x600 with 10 Axes>"
      ]
     },
     "metadata": {},
     "output_type": "display_data"
    }
   ],
   "source": [
    "fig, axs = plt.subplots(5, 2, figsize=(12, 6))\n",
    "fig.subplots_adjust(hspace=0.5)  \n",
    "\n",
    "\n",
    "for i, ax in enumerate(axs.flat):\n",
    "    bin_size = 0.05\n",
    "    bins = np.arange(-0.9, 7 + bin_size, bin_size)\n",
    "    \n",
    "    # Plot the histogram in the current subplot\n",
    "    ax.hist(store[i], bins=bins)\n",
    "    \n",
    "\n",
    "    ax.set_title(f'Epochs {i+1}')\n",
    "    \n",
    "    # You can customize the appearance of each subplot using ax.set_...\n",
    "\n",
    "# Show the plots\n",
    "plt.show()"
   ]
  },
  {
   "cell_type": "code",
   "execution_count": 37,
   "metadata": {},
   "outputs": [
    {
     "name": "stdout",
     "output_type": "stream",
     "text": [
      "[0. 0. 0. ... 0. 0. 0.]\n"
     ]
    }
   ],
   "source": [
    "print(store[17])"
   ]
  },
  {
   "cell_type": "code",
   "execution_count": 38,
   "metadata": {},
   "outputs": [
    {
     "data": {
      "text/plain": [
       "(array([0.0000e+00, 0.0000e+00, 0.0000e+00, 0.0000e+00, 1.0000e+03,\n",
       "        1.0000e+03, 0.0000e+00, 0.0000e+00, 0.0000e+00, 1.1368e+04,\n",
       "        1.2620e+04, 4.1150e+03, 1.8970e+03, 0.0000e+00, 1.0000e+03,\n",
       "        9.9900e+02, 1.0000e+00, 1.0000e+03, 0.0000e+00, 1.1110e+04,\n",
       "        1.0854e+04, 1.0360e+03, 3.0000e+03, 0.0000e+00, 0.0000e+00,\n",
       "        1.0000e+03, 0.0000e+00, 0.0000e+00, 0.0000e+00, 1.8470e+04,\n",
       "        1.3530e+04, 1.0000e+03, 0.0000e+00, 1.0000e+03, 0.0000e+00,\n",
       "        1.0000e+03, 1.0000e+03, 1.0000e+03, 2.0030e+03, 2.3018e+04,\n",
       "        7.9790e+03, 0.0000e+00, 9.4000e+02, 1.0600e+03, 2.0000e+03,\n",
       "        0.0000e+00, 3.0000e+03, 0.0000e+00, 2.0000e+03, 1.3470e+04,\n",
       "        8.5300e+03, 0.0000e+00, 0.0000e+00, 1.0000e+03, 1.0000e+03,\n",
       "        0.0000e+00, 0.0000e+00, 1.0000e+03, 1.9940e+03, 2.1259e+04,\n",
       "        5.7470e+03, 2.0000e+03, 0.0000e+00, 0.0000e+00, 0.0000e+00,\n",
       "        0.0000e+00, 0.0000e+00, 0.0000e+00, 0.0000e+00, 0.0000e+00]),\n",
       " array([0. , 0.1, 0.2, 0.3, 0.4, 0.5, 0.6, 0.7, 0.8, 0.9, 1. , 1.1, 1.2,\n",
       "        1.3, 1.4, 1.5, 1.6, 1.7, 1.8, 1.9, 2. , 2.1, 2.2, 2.3, 2.4, 2.5,\n",
       "        2.6, 2.7, 2.8, 2.9, 3. , 3.1, 3.2, 3.3, 3.4, 3.5, 3.6, 3.7, 3.8,\n",
       "        3.9, 4. , 4.1, 4.2, 4.3, 4.4, 4.5, 4.6, 4.7, 4.8, 4.9, 5. , 5.1,\n",
       "        5.2, 5.3, 5.4, 5.5, 5.6, 5.7, 5.8, 5.9, 6. , 6.1, 6.2, 6.3, 6.4,\n",
       "        6.5, 6.6, 6.7, 6.8, 6.9, 7. ]),\n",
       " <BarContainer object of 70 artists>)"
      ]
     },
     "execution_count": 38,
     "metadata": {},
     "output_type": "execute_result"
    },
    {
     "data": {
      "image/png": "[encoded data removed]",
      "text/plain": [
       "<Figure size 640x480 with 1 Axes>"
      ]
     },
     "metadata": {},
     "output_type": "display_data"
    }
   ],
   "source": [
    "bin_size = 0.1\n",
    "bins = np.arange(0, 7 + bin_size, bin_size)\n",
    "plt.hist(store[6], bins=bins)"
   ]
  }
 ],
 "metadata": {
  "kernelspec": {
   "display_name": "Python 3",
   "language": "python",
   "name": "python3"
  },
  "language_info": {
   "codemirror_mode": {
    "name": "ipython",
    "version": 3
   },
   "file_extension": ".py",
   "mimetype": "text/x-python",
   "name": "python",
   "nbconvert_exporter": "python",
   "pygments_lexer": "ipython3",
   "version": "3.9.7"
  }
 },
 "nbformat": 4,
 "nbformat_minor": 2
}
